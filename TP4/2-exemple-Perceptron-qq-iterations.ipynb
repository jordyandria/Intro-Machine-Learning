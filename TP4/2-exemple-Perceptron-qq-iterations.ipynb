{
 "cells": [
  {
   "cell_type": "markdown",
   "metadata": {},
   "source": [
    "# Perceptron - démo de cours magistral -> Exo 4.3"
   ]
  },
  {
   "cell_type": "code",
   "execution_count": 1,
   "metadata": {},
   "outputs": [],
   "source": [
    "import numpy as np\n",
    "import matplotlib.pyplot as plt\n",
    "import matplotlib.cm as cm"
   ]
  },
  {
   "cell_type": "code",
   "execution_count": 2,
   "metadata": {},
   "outputs": [],
   "source": [
    "# ## fonctions présentes dans le fichier mes_fonctions.py\n",
    "# import sys\n",
    "# sys.path.insert(0, '/home/flandes/Dropbox/Enseignement/mesModulesPython')\n",
    "# import mes_fonctions"
   ]
  },
  {
   "cell_type": "markdown",
   "metadata": {},
   "source": [
    "### Remarque: \n",
    "On a copié-collé le contenu du squelette fourni (les fonctions du fichier TP4-mes_fonctions.py) dans des cellules de ce jupyter-notebook, et on peut travailler directement ici. \n",
    "\n",
    "En fait, c'est beaucoup plus pratique pour faire tourner votre code (sinon vous pouvez aussi directement utiliser `ipython`)\n",
    "\n",
    "Sinon, il faudra ajouter  `mes_fonctions.` devant les appels de fonctions, et re-import après chaque modif du fichier `mes_fonctions.py`\n",
    "Par exemple, `make_blobs(100)` peut etre remplacé par `mes_fonctions.make_blobs(100)`"
   ]
  },
  {
   "cell_type": "code",
   "execution_count": 5,
   "metadata": {},
   "outputs": [],
   "source": [
    "#################\n",
    "## squelette fourni dans TP4-mes_fonctions.py :\n",
    "#################\n",
    "import numpy as np\n",
    "import matplotlib.pyplot as plt\n",
    "import matplotlib.cm as cm\n",
    "\n",
    "def make_blobs(N):\n",
    "    # data set 3\n",
    "    N1=N//4\n",
    "    N2=N-N1\n",
    "    D=2\n",
    "    np.random.seed(42)\n",
    "\n",
    "    # parameters for the 1st blob of points\n",
    "    mu1=(0.3,0.3)\n",
    "    sigma1=((1, 0.3))\n",
    "    X1 = np.random.normal( mu1, sigma1,(N1,D))\n",
    "\n",
    "    # parameters for the 2nd blob of points\n",
    "    mu2=(-2,-2)\n",
    "    sigma2=((2, 0.5))\n",
    "    X2 = np.random.normal( mu2, sigma2,(N2,D))\n",
    "\n",
    "    # the two blobs are merged, and labels  +1/-1  are assigned\n",
    "    Xraw = np.concatenate( (X1, X2) )\n",
    "    Y = np.concatenate( (np.ones(N1), -np.ones(N2)) ) # .reshape(N,1)\n",
    "    X = Xraw.copy() # then X will be the extended vector, with the ones added\n",
    "\n",
    "    X =  np.hstack((np.ones((N,1)), X))  # extended vector\n",
    "\n",
    "    return X,Y\n",
    "\n",
    "\n",
    "def display(X, Y, wInit, iteration):\n",
    "    # TODO : cette fonction devrait etre obtenue en faisant le TD2/3,\n",
    "    # dans lequel on calcule la distance plan-droite,\n",
    "    # et on apprend a maitriser la relation géométrie / vecteurs\n",
    "    def norme(wprime):\n",
    "        return np.linalg.norm(wprime)\n",
    "    \n",
    "    w=wInit.copy()\n",
    "    w0= w[0] # c'est la partie qui caractérise la distance à l'origine, qui détermine l'ordonnée à l'origine (mais ce n'est pas égal à ça)\n",
    "    ## on normalise les composantes du vrai vecteur w\n",
    "    wprime = w[1:] # /(w[1]**2+w[2]**2)**0.5\n",
    "    print(w, w0, wprime)\n",
    "\n",
    "    u_w = (wprime/norme(wprime)) # vecteur unitaire donnant la direction\n",
    "    distance_origine_droite = -w0/norme(wprime)\n",
    "    projete_de_Origine_sur_droite = u_w * distance_origine_droite\n",
    "    print(\"projete_de_Origine_sur_droite\", projete_de_Origine_sur_droite)\n",
    "\n",
    "    vecteur_Orthogonal_A_La_Droite = np.array([wprime[1],-wprime[0]])\n",
    "    extremite1 = projete_de_Origine_sur_droite + vecteur_Orthogonal_A_La_Droite*10\n",
    "    extremite2 = projete_de_Origine_sur_droite - vecteur_Orthogonal_A_La_Droite*10\n",
    "    extremites_abscisses = np.array([extremite1[0], extremite2[0]])\n",
    "    extremites_ordonnees = np.array([extremite1[1], extremite2[1]])\n",
    "\n",
    "    plt.figure(1)\n",
    "    Class1 = X[Y==-1,1:] # points of class \"-1\"\n",
    "    Class2 = X[Y== 1,1:] # points of class \"+1\"\n",
    "    plt.plot(Class1[:,0], Class1[:,1], 'r+') # points of class \"-1\"\n",
    "    plt.plot(Class2[:,0], Class2[:,1], 'bx') # points of class \"+1\"\n",
    "    cmap = cm.jet\n",
    "    colorGradient=cmap(np.linspace(0.0,1.0,12))\n",
    "    plt.plot(extremites_abscisses, extremites_ordonnees,  color=colorGradient[iteration%(len(colorGradient))])\n",
    "    print(extremites_abscisses)\n",
    "    \n",
    "    \n",
    "\n",
    "\n",
    "## TODO: créer une fonction qui inialise les poids\n",
    "## (soit aléatoirement, soit de façon pré-fixée (c'est moins bien))\n",
    "def initializeWeights(X, type):\n",
    "    pass\n",
    "    return wparameters\n",
    "\n",
    "## TODO: remplir cette fonction (au moins, sans les affichages\n",
    "## mais de sorte que le résultat soit correct)\n",
    "def perceptronFullBatch_version_minimale(X,Y,eta, w0, maxIter=20, plot=None, verbose=None, Loss=None):\n",
    "    pass\n",
    "    return wparameters\n",
    "\n",
    "\n",
    "## TODO-BONUS: faire aussi une version avec l'affichage\n",
    "## des positions intermédiaires de la droite séparatrice,\n",
    "## en couleurs, comme vu en cours.\n",
    "# def perceptronFullBatch_version_decoree(X,Y,eta, w0, maxIter=20, plot=True, verbose=True, Loss=\"ReLU\"):\n",
    "#     for iteration in range(maxIter):\n",
    "\n",
    "#         pass ## TODO ici\n",
    "\n",
    "#         if plot :\n",
    "#             display(X,Y, wparameters, iteration)\n",
    "\n",
    "#     ## TODO ici\n",
    "\n",
    "#     return wparameters\n",
    "\n"
   ]
  },
  {
   "cell_type": "code",
   "execution_count": null,
   "metadata": {},
   "outputs": [],
   "source": []
  },
  {
   "cell_type": "code",
   "execution_count": 6,
   "metadata": {
    "scrolled": true
   },
   "outputs": [],
   "source": [
    "N=100\n",
    "X, Y = make_blobs(100)\n",
    "## à vous de jouer !!"
   ]
  },
  {
   "cell_type": "code",
   "execution_count": 7,
   "metadata": {
    "scrolled": false
   },
   "outputs": [
    {
     "name": "stdout",
     "output_type": "stream",
     "text": [
      "[1.   0.01 1.  ] 1.0 [0.01 1.  ]\n",
      "projete_de_Origine_sur_droite [-0.009999   -0.99990001]\n",
      "[  9.990001 -10.009999]\n"
     ]
    },
    {
     "data": {
      "image/png": "[encoded data removed]",
      "text/plain": [
       "<Figure size 640x480 with 1 Axes>"
      ]
     },
     "metadata": {},
     "output_type": "display_data"
    }
   ],
   "source": [
    "w0 = np.array([1,0.01,1])  ## w initial\n",
    "display(X,Y, w0, 1)\n"
   ]
  },
  {
   "cell_type": "markdown",
   "metadata": {},
   "source": [
    "### Remarque: les données sont déja augmentées:  (on a mis \"le 1\")"
   ]
  },
  {
   "cell_type": "code",
   "execution_count": 8,
   "metadata": {
    "scrolled": true
   },
   "outputs": [
    {
     "data": {
      "text/plain": [
       "array([[ 1.        ,  0.79671415,  0.25852071],\n",
       "       [ 1.        ,  0.94768854,  0.75690896],\n",
       "       [ 1.        ,  0.06584663,  0.22975891],\n",
       "       [ 1.        ,  1.87921282,  0.53023042],\n",
       "       [ 1.        , -0.16947439,  0.46276801],\n",
       "       [ 1.        , -0.16341769,  0.16028107],\n",
       "       [ 1.        ,  0.54196227, -0.27398407],\n",
       "       [ 1.        , -1.42491783,  0.13131374],\n",
       "       [ 1.        , -0.71283112,  0.3942742 ],\n",
       "       [ 1.        , -0.60802408, -0.12369111]])"
      ]
     },
     "execution_count": 8,
     "metadata": {},
     "output_type": "execute_result"
    }
   ],
   "source": [
    "X[:10]"
   ]
  },
  {
   "cell_type": "markdown",
   "metadata": {},
   "source": [
    "## 1. Initialization\n",
    "\n",
    "- make a stupid or random guess for an initial value of the parameters vector `wparameters`, i.e set a value for $\\vec w_0=$ `w0`, the initial value of $\\vec w$\n",
    "- choose some values for the hyper-parameters `eta`, `MaxIter`\n"
   ]
  },
  {
   "cell_type": "markdown",
   "metadata": {},
   "source": [
    "### Initialization of weights\n",
    "\n",
    "It's independent of the rest, we just need to know the dimensionality of parameters to be initalized"
   ]
  },
  {
   "cell_type": "code",
   "execution_count": 7,
   "metadata": {},
   "outputs": [
    {
     "ename": "SyntaxError",
     "evalue": "invalid syntax (3149403198.py, line 4)",
     "output_type": "error",
     "traceback": [
      "\u001b[0;36m  Cell \u001b[0;32mIn[7], line 4\u001b[0;36m\u001b[0m\n\u001b[0;31m    D=? ## quelle est la dimension des données ?\u001b[0m\n\u001b[0m      ^\u001b[0m\n\u001b[0;31mSyntaxError\u001b[0m\u001b[0;31m:\u001b[0m invalid syntax\n"
     ]
    }
   ],
   "source": [
    "\n",
    "\n",
    "## TODO: créer une fonction qui inialise les poids\n",
    "## (soit aléatoirement, soit de façon pré-fixée (c'est moins bien))\n",
    "def initializeWeights(X, type):  # on ne regarde X que pour produire un w de la bonne dimension D.\n",
    "    D= X.shape[1]\n",
    "    pass\n",
    "    return wparameters\n"
   ]
  },
  {
   "cell_type": "code",
   "execution_count": 8,
   "metadata": {
    "scrolled": true
   },
   "outputs": [
    {
     "ename": "NameError",
     "evalue": "name 'wparameters' is not defined",
     "output_type": "error",
     "traceback": [
      "\u001b[0;31m---------------------------------------------------------------------------\u001b[0m",
      "\u001b[0;31mNameError\u001b[0m                                 Traceback (most recent call last)",
      "Cell \u001b[0;32mIn[8], line 3\u001b[0m\n\u001b[1;32m      1\u001b[0m \u001b[38;5;66;03m######### initialization of the separating vector ######\u001b[39;00m\n\u001b[1;32m      2\u001b[0m np\u001b[38;5;241m.\u001b[39mrandom\u001b[38;5;241m.\u001b[39mseed(\u001b[38;5;241m43\u001b[39m)\n\u001b[0;32m----> 3\u001b[0m w0 \u001b[38;5;241m=\u001b[39m \u001b[43minitializeWeights\u001b[49m\u001b[43m(\u001b[49m\u001b[43mX\u001b[49m\u001b[43m,\u001b[49m\u001b[38;5;124;43m\"\u001b[39;49m\u001b[38;5;124;43mrandom\u001b[39;49m\u001b[38;5;124;43m\"\u001b[39;49m\u001b[43m)\u001b[49m  \u001b[38;5;66;03m## w initial\u001b[39;00m\n\u001b[1;32m      4\u001b[0m \u001b[38;5;28mprint\u001b[39m(w0)\n\u001b[1;32m      5\u001b[0m display(X,Y, w0, \u001b[38;5;241m0\u001b[39m)\n",
      "Cell \u001b[0;32mIn[3], line 76\u001b[0m, in \u001b[0;36minitializeWeights\u001b[0;34m(X, type)\u001b[0m\n\u001b[1;32m     74\u001b[0m \u001b[38;5;28;01mdef\u001b[39;00m \u001b[38;5;21minitializeWeights\u001b[39m(X, \u001b[38;5;28mtype\u001b[39m):\n\u001b[1;32m     75\u001b[0m     \u001b[38;5;28;01mpass\u001b[39;00m\n\u001b[0;32m---> 76\u001b[0m     \u001b[38;5;28;01mreturn\u001b[39;00m \u001b[43mwparameters\u001b[49m\n",
      "\u001b[0;31mNameError\u001b[0m: name 'wparameters' is not defined"
     ]
    }
   ],
   "source": [
    "######### initialization of the separating vector ######\n",
    "np.random.seed(43)\n",
    "w0 = initializeWeights(X,\"random\")  ## w initial\n",
    "print(w0)\n",
    "display(X,Y, w0, 0)"
   ]
  },
  {
   "cell_type": "code",
   "execution_count": null,
   "metadata": {},
   "outputs": [],
   "source": [
    "plotting = True\n",
    "verbose = True"
   ]
  },
  {
   "cell_type": "code",
   "execution_count": null,
   "metadata": {},
   "outputs": [],
   "source": [
    "\n",
    "## TODO: remplir cette fonction (au moins, sans les affichages\n",
    "## mais de sorte que le résultat soit correct)\n",
    "def perceptronFullBatch_version_minimale(X,Y,eta, w0, maxIter=20, plot=None, verbose=None, Loss=None):\n",
    "    pass\n",
    "    return wparameters"
   ]
  },
  {
   "cell_type": "code",
   "execution_count": null,
   "metadata": {},
   "outputs": [],
   "source": [
    "### hyper-parameters ###\n",
    "MAXITER=85\n",
    "eta = 0.05\n",
    "## on lance le calcul\n",
    "w =  perceptronFullBatch_version_minimale(X,Y,eta, w0, MAXITER, plotting, verbose)"
   ]
  },
  {
   "cell_type": "code",
   "execution_count": null,
   "metadata": {},
   "outputs": [],
   "source": [
    "display(X,Y, w, 0)"
   ]
  },
  {
   "cell_type": "markdown",
   "metadata": {},
   "source": [
    "## Quand votre code \"minimaliste\" converge / si il compile sans converger, et que vous voulez comprendre pourquoi:\n",
    "\n",
    "Faites une version plus avancée `perceptronFullBatch_version_decoree`, dans laquelle vous réalisez:\n",
    "- un découpage (*split*) des données (train/validation) à partir de vos données d'entrainement. Vous pouvez utiliser `sklearn.model_selection.train_test_split`\n",
    "- un calcul du taux d'erreur (sur l'ensemble d'entrainement)\n",
    "- un calcul du taux d'erreur (sur l'ensemble de validation)\n",
    "- un calcul de la fonction cout (sur l'ensemble d'entrainement)\n",
    "- un calcul de la fonction cout (sur l'ensemble de validation)\n",
    "- un affichage de l'hyperplan de séparation, à l'aide de la fonction display, qui est fournie"
   ]
  },
  {
   "cell_type": "code",
   "execution_count": null,
   "metadata": {},
   "outputs": [],
   "source": []
  },
  {
   "cell_type": "code",
   "execution_count": null,
   "metadata": {},
   "outputs": [],
   "source": [
    "### hyper-parameters ###\n",
    "MAXITER=85\n",
    "eta = 0.05\n",
    "## on lance le calcul\n",
    "w, err_train, err_val, loss_train, loss_val =  mes_fonctions.perceptronFullBatch_version_decoree(X,Y,eta, w0, MAXITER, plotting, verbose)"
   ]
  },
  {
   "cell_type": "code",
   "execution_count": null,
   "metadata": {},
   "outputs": [],
   "source": [
    "plt.plot(err_train, label = 'err_train')\n",
    "plt.plot(err_val, label = 'err_val')\n",
    "plt.plot(loss_train, label = 'loss_train')\n",
    "plt.plot(loss_val, label = 'loss_val')\n",
    "plt.semilogy()\n",
    "plt.legend()"
   ]
  },
  {
   "cell_type": "markdown",
   "metadata": {},
   "source": [
    "# On teste sur des \"vraies\" données (en fait, c'est encore un très petit jeu de données)"
   ]
  },
  {
   "cell_type": "code",
   "execution_count": null,
   "metadata": {},
   "outputs": [],
   "source": [
    "import sklearn.datasets\n",
    "import sklearn.model_selection"
   ]
  },
  {
   "cell_type": "markdown",
   "metadata": {},
   "source": [
    "## Load_digits (minim-MNIST, en taille 8x8, avec seulement ~2000 exemples)\n",
    "\n",
    "Remarque: Le MNIST complet en contient 70000, chacun de taille 28x28. Allez voir https://gitlab.inria.fr/flandes/data-for-teaching/-/blob/master/import-mnist70-numpy-npz.py si vous voulez charger mon fichier https://gitlab.inria.fr/flandes/data-for-teaching/-/blob/master/mnist70.npz"
   ]
  },
  {
   "cell_type": "code",
   "execution_count": null,
   "metadata": {},
   "outputs": [],
   "source": [
    "\n",
    "X, Y = sklearn.datasets.load_digits(n_class=2, return_X_y=True)\n",
    "\n",
    "## on fait immédiatement l'astuce du 1 (augmentation de toutes les données par ajout d'une colonne de 1)\n",
    "N = X.shape[0]\n",
    "X =  np.hstack((np.ones((N,1)), X))  # extended vector\n",
    "## on encode le label \"Ground Truth\" (vrai) dans les valeurs {-1,1} plutot que {0,1}\n",
    "Y*=2\n",
    "Y-=1\n",
    "## on coupe et on réserve 20% des data pour le test final \n",
    "X, X_test, Y, Y_test = sklearn.model_selection.train_test_split(X, Y, test_size=0.2, random_state=42)"
   ]
  },
  {
   "cell_type": "code",
   "execution_count": null,
   "metadata": {},
   "outputs": [],
   "source": [
    "## la premiere image est un zero:\n",
    "plt.imshow(X[0,1:].reshape(8, 8), cmap=plt.cm.binary)"
   ]
  },
  {
   "cell_type": "code",
   "execution_count": null,
   "metadata": {},
   "outputs": [],
   "source": [
    "## la 45ème image est un 1:\n",
    "plt.imshow(X[44,1:].reshape(8, 8), cmap=plt.cm.binary)"
   ]
  },
  {
   "cell_type": "code",
   "execution_count": null,
   "metadata": {
    "scrolled": true
   },
   "outputs": [],
   "source": [
    "### hyper-parameters ###\n",
    "MAXITER=200\n",
    "eta = 0.001\n",
    "## on lance le calcul\n",
    "plotting=False\n",
    "verbose=False\n",
    "\n",
    "## on initialise w avec la bonne dimension (ceci pourrait/devrait etre fait dans la fonction de fit, en fait)\n",
    "np.random.seed(12)\n",
    "w0 = mes_fonctions.initializeWeights(X, \"random\")\n",
    "\n",
    "w, err_train, err_val, loss_train, loss_val =  mes_fonctions.perceptronFullBatch_version_decoree(X,Y,eta, w0, MAXITER, plotting, verbose)\n",
    "\n",
    "plt.plot(err_train, label = 'err_train')\n",
    "plt.plot(err_val, label = 'err_val')\n",
    "plt.plot(loss_train, label = 'loss_train')\n",
    "plt.plot(loss_val, label = 'loss_val')\n",
    "plt.semilogy()\n",
    "plt.legend()"
   ]
  },
  {
   "cell_type": "markdown",
   "metadata": {},
   "source": [
    "### À tester: essayer de varier la graine, c.a.d. \n",
    "`np.random.seed(12)` : rempalcer par `np.random.seed(1) `  (essayer plein de valeurs)\n",
    "\n",
    "Et à chaque fois, observer le comportement des courbes. Intéressant, non?"
   ]
  },
  {
   "cell_type": "markdown",
   "metadata": {},
   "source": [
    "# Encore un test: sur le dataset des vins"
   ]
  },
  {
   "cell_type": "code",
   "execution_count": null,
   "metadata": {},
   "outputs": [],
   "source": [
    "import sklearn.datasets\n",
    "X, Y = sklearn.datasets.load_wine(return_X_y=True)\n",
    "\n",
    "## on filtre les vins qui ne sont pas d'une des deux premières classes\n",
    "filtre = Y<2\n",
    "X = X[filtre]\n",
    "Y = Y[filtre]\n",
    "## on fait immédiatement l'astuce du 1 (augmentation de toutes les données par ajout d'une colonne de 1)\n",
    "N = X.shape[0]\n",
    "X =  np.hstack((np.ones((N,1)), X))  # extended vector\n",
    "## on encode le label \"Ground Truth\" (vrai) dans les valeurs {-1,1} plutot que {0,1}\n",
    "Y*=2\n",
    "Y-=1\n",
    "## on coupe et on réserve 20% des data pour le test final \n",
    "X, X_test, Y, Y_test = sklearn.model_selection.train_test_split(X, Y, test_size=0.2, random_state=42)"
   ]
  },
  {
   "cell_type": "code",
   "execution_count": null,
   "metadata": {},
   "outputs": [],
   "source": [
    "X.shape, Y.shape, X_test.shape"
   ]
  },
  {
   "cell_type": "code",
   "execution_count": null,
   "metadata": {},
   "outputs": [],
   "source": [
    "### hyper-parameters ###\n",
    "MAXITER=200\n",
    "eta = 0.001\n",
    "## on lance le calcul\n",
    "plotting=False\n",
    "verbose=False\n",
    "\n",
    "## on initialise w avec la bonne dimension (ceci pourrait/devrait etre fait dans la fonction de fit, en fait)\n",
    "np.random.seed(1)\n",
    "w0 = mes_fonctions.initializeWeights(X, \"random\")\n",
    "\n",
    "w, err_train, err_val, loss_train, loss_val =  mes_fonctions.perceptronFullBatch_version_decoree(X,Y,eta, w0, MAXITER, plotting, verbose)\n",
    "\n",
    "plt.plot(err_train, label = 'err_train')\n",
    "plt.plot(err_val, label = 'err_val')\n",
    "plt.plot(loss_train, label = 'loss_train')\n",
    "plt.plot(loss_val, label = 'loss_val')\n",
    "plt.semilogy()\n",
    "plt.legend()"
   ]
  },
  {
   "cell_type": "markdown",
   "metadata": {},
   "source": [
    "# TODO (à la maison - lors de votre projet): améliorer le choix des hyper-paramètres, et seulement à la fin de ce choix, tester sur le test set/\n"
   ]
  },
  {
   "cell_type": "code",
   "execution_count": null,
   "metadata": {},
   "outputs": [],
   "source": []
  }
 ],
 "metadata": {
  "kernelspec": {
   "display_name": "Python 3 (ipykernel)",
   "language": "python",
   "name": "python3"
  },
  "language_info": {
   "codemirror_mode": {
    "name": "ipython",
    "version": 3
   },
   "file_extension": ".py",
   "mimetype": "text/x-python",
   "name": "python",
   "nbconvert_exporter": "python",
   "pygments_lexer": "ipython3",
   "version": "3.11.2"
  }
 },
 "nbformat": 4,
 "nbformat_minor": 4
}
