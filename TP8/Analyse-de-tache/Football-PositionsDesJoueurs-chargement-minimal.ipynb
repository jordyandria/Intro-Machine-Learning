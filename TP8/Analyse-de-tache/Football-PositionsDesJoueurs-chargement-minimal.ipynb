{
 "cells": [
  {
   "cell_type": "markdown",
   "metadata": {},
   "source": [
    "## Crédits:\n",
    "\n",
    "### Dylan Pernin et Martin Boujon (qui ont réalisé beaucoup plus que ça!)"
   ]
  },
  {
   "cell_type": "code",
   "execution_count": 1,
   "metadata": {},
   "outputs": [],
   "source": [
    "import pandas as pd\n",
    "import numpy as np\n",
    "import seaborn as sns\n",
    "import matplotlib.pyplot as plt\n",
    "import matplotlib.cm as cm\n",
    "\n",
    "from sklearn.svm import SVC\n",
    "from sklearn import svm\n",
    "from sklearn.metrics import confusion_matrix, classification_report\n",
    "from sklearn.preprocessing import StandardScaler\n",
    "from sklearn.model_selection import train_test_split\n",
    "from sklearn.ensemble import RandomForestClassifier\n",
    "from sklearn.model_selection import cross_val_score\n",
    "\n",
    "%matplotlib inline "
   ]
  },
  {
   "cell_type": "markdown",
   "metadata": {},
   "source": [
    "# Pre-processing"
   ]
  },
  {
   "cell_type": "code",
   "execution_count": 2,
   "metadata": {},
   "outputs": [],
   "source": [
    "pData = pd.read_csv(r\"Football-FullData.csv\")\n",
    "\n",
    "#Choix des features\n",
    "pDataUtil = pData[['Club_Position','Height', 'Weight', 'Preffered_Foot', 'Skill_Moves',\n",
    "       'Ball_Control', 'Dribbling', 'Marking', 'Sliding_Tackle', 'Standing_Tackle', 'Aggression', 'Reactions', \n",
    "       'Interceptions', 'Vision', 'Composure', 'Crossing', 'Short_Pass', 'Long_Pass',\n",
    "       'Acceleration', 'Speed', 'Stamina', 'Strength', 'Balance', 'Agility', 'Jumping', 'Heading', 'Shot_Power',\n",
    "       'Finishing', 'Long_Shots', 'Curve', 'Freekick_Accuracy', 'Penalties', 'Volleys']]"
   ]
  },
  {
   "cell_type": "code",
   "execution_count": 3,
   "metadata": {},
   "outputs": [],
   "source": [
    "# Pré-traitement minimal \n",
    "pDataFinal = pDataUtil # copie superficielle (shallow)"
   ]
  },
  {
   "cell_type": "code",
   "execution_count": 4,
   "metadata": {},
   "outputs": [
    {
     "name": "stdout",
     "output_type": "stream",
     "text": [
      "\\begin{tabular}{lllllrr}\n",
      "\\toprule\n",
      "{} & Club\\_Position &  Height & Weight & Preffered\\_Foot &  Skill\\_Moves &  Ball\\_Control \\\\\n",
      "\\midrule\n",
      "0 &            LW &  185 cm &  80 kg &          Right &            5 &            93 \\\\\n",
      "1 &            RW &  170 cm &  72 kg &           Left &            4 &            95 \\\\\n",
      "2 &            LW &  174 cm &  68 kg &          Right &            5 &            95 \\\\\n",
      "3 &            ST &  182 cm &  85 kg &          Right &            4 &            91 \\\\\n",
      "4 &            GK &  193 cm &  92 kg &          Right &            1 &            48 \\\\\n",
      "\\bottomrule\n",
      "\\end{tabular}\n",
      "\n"
     ]
    }
   ],
   "source": [
    "subset = ['Club_Position','Height', 'Weight', 'Preffered_Foot', 'Skill_Moves', 'Ball_Control']\n",
    "print(pDataFinal[subset].head().to_latex()) # ?.describe().to_latex())"
   ]
  },
  {
   "cell_type": "code",
   "execution_count": null,
   "metadata": {},
   "outputs": [],
   "source": []
  },
  {
   "cell_type": "code",
   "execution_count": 5,
   "metadata": {},
   "outputs": [],
   "source": [
    "# Regroupement initial suivant la localisation spatiale du joueur \n",
    "pDataFinal = pDataUtil.replace(regex={'Left':'1','Right':'0','LWB':'ARG','LW':'AVG','CAM':'AVC','RWB':'ARD','RW':'AVD','LM':'MG','LCM':'MG','RCM':'MD','CM':'MC','RM':'MD','LB':'ARG','LCB':'ARG','LDM':'ARG','CDM':'ARC','RCB':'ARD','CB':'ARC','RB':'ARD','RDM':'ARD','ST':'TR','RF':'TR','LF':'TR','CF':'TR','GK':'GR','RS':'AVD','LS':'AVG','RAM':'AVD','LAM':'AVG'})\n",
    "\n",
    "#Regroupement n°1 (10 catégories)\n",
    "# pDataFinal = pDataUtil.replace(regex={'Left':'1','Right':'0','RCB':'CB','LCB':'CB','RS':'ST','LS':'ST','LM':'L','LWB':'L','LW':'L','RM':'R','RWB':'R','RW':'R','LCM':'CM','RCM':'CM','CAM':'AM','LAM':'AM','RAM':'AM','LF':'AM','RF':'AM','CF':'AM','CDM':'DM','RDM':'DM','LDM':'DM'})\n",
    "\n",
    "#Regroupement n°2 (10 catégories), celui choisi\n",
    "# pDataFinal = pDataUtil.replace(regex={'Left':'1','Right':'0','RCB':'CB','LCB':'CB','LWB':'LB','RWB':'RB','RS':'ST','LS':'ST','LM':'L','LW':'L','RM':'R','RW':'R','LCM':'CM','RCM':'CM','CAM':'AM','LAM':'AM','RAM':'AM','LF':'AM','RF':'AM','CF':'AM','CDM':'DM','RDM':'DM','LDM':'DM'})\n",
    "\n",
    "#Regroupement n°3 (8 catégories)\n",
    "#pDataFinal = pDataUtil.replace(regex={'Left':'1','Right':'0','RCB':'CB','LCB':'CB','RS':'ST','LS':'ST','LM':'L','LB':'L','LWB':'L','LW':'L','RM':'R','RB':'R','RWB':'R','RW':'R','LCM':'CM','RCM':'CM','CAM':'AM','LAM':'AM','RAM':'AM','LF':'AM','RF':'AM','CF':'AM','CDM':'DM','RDM':'DM','LDM':'DM'})\n",
    "\n",
    "#On enlève les positions Sub (Remplaçant) et Res (Réserviste)\n",
    "pDataFinal = pDataFinal[~pDataFinal['Club_Position'].isin([\"Sub\",\"Res\"])]\n",
    "\n",
    "#Permet de changer 180cm en 180 et 75kg en 75 (par exemple)\n",
    "pDataFinal['Height'] = pDataFinal['Height'].str.replace(r'\\D', '').astype(int)\n",
    "pDataFinal['Weight'] = pDataFinal['Weight'].str.replace(r'\\D', '').astype(int)\n",
    "\n",
    "#Permet de passer le format de la colonne à int\n",
    "pDataFinal['Preffered_Foot'] = pDataFinal['Preffered_Foot'].astype(int)\n",
    "\n",
    "#Supprime les lignes incomplètes\n",
    "pDataFinal = pDataFinal.dropna()"
   ]
  },
  {
   "cell_type": "markdown",
   "metadata": {},
   "source": [
    "# Représentation des données"
   ]
  },
  {
   "cell_type": "code",
   "execution_count": 6,
   "metadata": {},
   "outputs": [
    {
     "data": {
      "text/plain": [
       "array([0, 1])"
      ]
     },
     "execution_count": 6,
     "metadata": {},
     "output_type": "execute_result"
    }
   ],
   "source": [
    "(pDataFinal['Preffered_Foot']).unique()"
   ]
  },
  {
   "cell_type": "code",
   "execution_count": 7,
   "metadata": {
    "scrolled": true
   },
   "outputs": [
    {
     "name": "stdout",
     "output_type": "stream",
     "text": [
      "\\begin{tabular}{llrrrrr}\n",
      "\\toprule\n",
      "{} & Club\\_Position &  Height &  Weight &  Preffered\\_Foot &  Skill\\_Moves &  Ball\\_Control \\\\\n",
      "\\midrule\n",
      "0 &           AVG &     185 &      80 &               0 &            5 &            93 \\\\\n",
      "1 &           AVD &     170 &      72 &               1 &            4 &            95 \\\\\n",
      "2 &           AVG &     174 &      68 &               0 &            5 &            95 \\\\\n",
      "3 &            TR &     182 &      85 &               0 &            4 &            91 \\\\\n",
      "4 &            GR &     193 &      92 &               0 &            1 &            48 \\\\\n",
      "\\bottomrule\n",
      "\\end{tabular}\n",
      "\n"
     ]
    }
   ],
   "source": [
    "subset = ['Club_Position','Height', 'Weight', 'Preffered_Foot', 'Skill_Moves', 'Ball_Control']\n",
    "print(pDataFinal[subset].head().to_latex())"
   ]
  },
  {
   "cell_type": "code",
   "execution_count": 8,
   "metadata": {},
   "outputs": [
    {
     "name": "stdout",
     "output_type": "stream",
     "text": [
      "<class 'pandas.core.frame.DataFrame'>\n",
      "Int64Index: 6949 entries, 0 to 17481\n",
      "Data columns (total 33 columns):\n",
      " #   Column             Non-Null Count  Dtype \n",
      "---  ------             --------------  ----- \n",
      " 0   Club_Position      6949 non-null   object\n",
      " 1   Height             6949 non-null   int64 \n",
      " 2   Weight             6949 non-null   int64 \n",
      " 3   Preffered_Foot     6949 non-null   int64 \n",
      " 4   Skill_Moves        6949 non-null   int64 \n",
      " 5   Ball_Control       6949 non-null   int64 \n",
      " 6   Dribbling          6949 non-null   int64 \n",
      " 7   Marking            6949 non-null   int64 \n",
      " 8   Sliding_Tackle     6949 non-null   int64 \n",
      " 9   Standing_Tackle    6949 non-null   int64 \n",
      " 10  Aggression         6949 non-null   int64 \n",
      " 11  Reactions          6949 non-null   int64 \n",
      " 12  Interceptions      6949 non-null   int64 \n",
      " 13  Vision             6949 non-null   int64 \n",
      " 14  Composure          6949 non-null   int64 \n",
      " 15  Crossing           6949 non-null   int64 \n",
      " 16  Short_Pass         6949 non-null   int64 \n",
      " 17  Long_Pass          6949 non-null   int64 \n",
      " 18  Acceleration       6949 non-null   int64 \n",
      " 19  Speed              6949 non-null   int64 \n",
      " 20  Stamina            6949 non-null   int64 \n",
      " 21  Strength           6949 non-null   int64 \n",
      " 22  Balance            6949 non-null   int64 \n",
      " 23  Agility            6949 non-null   int64 \n",
      " 24  Jumping            6949 non-null   int64 \n",
      " 25  Heading            6949 non-null   int64 \n",
      " 26  Shot_Power         6949 non-null   int64 \n",
      " 27  Finishing          6949 non-null   int64 \n",
      " 28  Long_Shots         6949 non-null   int64 \n",
      " 29  Curve              6949 non-null   int64 \n",
      " 30  Freekick_Accuracy  6949 non-null   int64 \n",
      " 31  Penalties          6949 non-null   int64 \n",
      " 32  Volleys            6949 non-null   int64 \n",
      "dtypes: int64(32), object(1)\n",
      "memory usage: 1.8+ MB\n"
     ]
    },
    {
     "data": {
      "text/plain": [
       "<matplotlib.axes._subplots.AxesSubplot at 0x7fb2596136d0>"
      ]
     },
     "execution_count": 8,
     "metadata": {},
     "output_type": "execute_result"
    },
    {
     "data": {
      "image/png": "[encoded data removed]",
      "text/plain": [
       "<Figure size 432x288 with 1 Axes>"
      ]
     },
     "metadata": {
      "needs_background": "light"
     },
     "output_type": "display_data"
    }
   ],
   "source": [
    "pDataFinal.head()\n",
    "pDataFinal.info()\n",
    "pDataUtil['Club_Position'].value_counts()\n",
    "pDataFinal['Club_Position'].value_counts()\n",
    "sns.countplot(pDataFinal['Club_Position'], order=pDataFinal['Club_Position'].value_counts(ascending=True).index)"
   ]
  },
  {
   "cell_type": "markdown",
   "metadata": {},
   "source": [
    "# Séparation des données"
   ]
  },
  {
   "cell_type": "code",
   "execution_count": 9,
   "metadata": {},
   "outputs": [],
   "source": [
    "#Séparation des arguments d'entrée (caractéristiques des joueurs) \n",
    "# et de l'argument de sortie (position)\n",
    "X = pDataFinal.drop('Club_Position', axis=1)\n",
    "y = pDataFinal['Club_Position']"
   ]
  },
  {
   "cell_type": "code",
   "execution_count": null,
   "metadata": {},
   "outputs": [],
   "source": []
  }
 ],
 "metadata": {
  "kernelspec": {
   "display_name": "Python 3",
   "language": "python",
   "name": "python3"
  },
  "language_info": {
   "codemirror_mode": {
    "name": "ipython",
    "version": 3
   },
   "file_extension": ".py",
   "mimetype": "text/x-python",
   "name": "python",
   "nbconvert_exporter": "python",
   "pygments_lexer": "ipython3",
   "version": "3.7.7"
  }
 },
 "nbformat": 4,
 "nbformat_minor": 4
}
