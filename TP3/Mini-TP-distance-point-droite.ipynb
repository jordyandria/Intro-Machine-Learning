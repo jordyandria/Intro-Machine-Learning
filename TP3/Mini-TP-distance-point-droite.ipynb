{
 "cells": [
  {
   "cell_type": "code",
   "execution_count": 1,
   "id": "bacfcbf1",
   "metadata": {},
   "outputs": [],
   "source": [
    "import numpy as np\n",
    "import matplotlib.pyplot as plt\n",
    "import matplotlib.cm as cm"
   ]
  },
  {
   "cell_type": "markdown",
   "id": "b3276c94",
   "metadata": {},
   "source": [
    "# Mini-TP distance point-droite\n",
    "\n",
    "On va implémenter les formules démontrées en TD, en python.\n",
    "- 1. Initialiser une droite de paramètres aléatoires (définissez une fonction). \n",
    "\n",
    "- 2. Représentez cette droite dans le plan (définissez une fonction display).\n",
    "(voir détails plus bas)\n",
    "\n",
    "- 3. Calculez la distance (signée) entre un point quelconque et la droite (définissez une fonction distancePoint_Droite).\n",
    "\n",
    "- 4. Affichez la distance (signée) à la droite avec un dégradé de couleurs.\n"
   ]
  },
  {
   "cell_type": "markdown",
   "id": "49f4adb4",
   "metadata": {},
   "source": [
    "## 0. On vous montre qq commandes"
   ]
  },
  {
   "cell_type": "code",
   "execution_count": 2,
   "id": "f89df769",
   "metadata": {
    "scrolled": true
   },
   "outputs": [
    {
     "data": {
      "text/plain": [
       "<matplotlib.collections.PathCollection at 0x224441e0b50>"
      ]
     },
     "execution_count": 2,
     "metadata": {},
     "output_type": "execute_result"
    },
    {
     "data": {
      "image/png": "[encoded data removed]",
      "text/plain": [
       "<Figure size 640x480 with 1 Axes>"
      ]
     },
     "metadata": {},
     "output_type": "display_data"
    }
   ],
   "source": [
    "# voici les données brutes, sans le \"rajout du 1\"\n",
    "X = np.array([[0,0],[0,1],[1,0],[1,1],[4,0],[4,1]])\n",
    "T = np.array([-1,-1,1,1,1,1])\n",
    "plt.scatter(X[:,0], X[:,1], color=\"blue\")\n",
    "plt.scatter(X[T==1,0], X[T==1,1], color=\"red\")"
   ]
  },
  {
   "cell_type": "code",
   "execution_count": 3,
   "id": "6d94ece0",
   "metadata": {},
   "outputs": [
    {
     "data": {
      "text/plain": [
       "[<matplotlib.lines.Line2D at 0x224441fa850>]"
      ]
     },
     "execution_count": 3,
     "metadata": {},
     "output_type": "execute_result"
    },
    {
     "data": {
      "image/png": "[encoded data removed]",
      "text/plain": [
       "<Figure size 640x480 with 1 Axes>"
      ]
     },
     "metadata": {},
     "output_type": "display_data"
    }
   ],
   "source": [
    "# voici les données après le \"rajout du 1\"\n",
    "N=6\n",
    "Xaug = np.hstack((np.ones((N,1)), X)) \n",
    "X = Xaug\n",
    "W1 = X[T==-1,1:] # points of class \"-1\"\n",
    "W2 = X[T== 1,1:] # points of class \"+1\"\n",
    "plt.plot(W1[:,0], W1[:,1], 'r+') # points of class \"-1\"\n",
    "plt.plot(W2[:,0], W2[:,1], 'bx') # points of class \"+1\""
   ]
  },
  {
   "cell_type": "markdown",
   "id": "64764864",
   "metadata": {},
   "source": [
    "## 1. Initialiser une droite de paramètres aléatoires (définissez une fonction)."
   ]
  },
  {
   "cell_type": "code",
   "execution_count": null,
   "id": "16407ca0",
   "metadata": {},
   "outputs": [],
   "source": [
    "def initializeWeights():\n",
    "    # D est la dimension choisie pour le vecteur de paramètres (nombre de paramètres)\n",
    "    D = ??\n",
    "    wparameters = ?? \n",
    "    return wparameters\n",
    "np.random.seed(43)\n",
    "w = initializeWeights()\n",
    "w"
   ]
  },
  {
   "cell_type": "markdown",
   "id": "18fb0ba5",
   "metadata": {},
   "source": [
    "## 2. Représentez cette droite dans le plan (définissez une fonction display).\n",
    "\n",
    "- à partir de $\\vec w \\in \\mathbb{R}^3$, définissez $w_0$ et $\\vec w'\\in \\mathbb{R}^2$, comme dans le TD (exo *Distance point-droite (Démonstration)*)\n",
    "- définissez le vecteur unitaire donnant la direction orthogonale à la droite, $$\\vec u =\\frac{ \\vec w'}{ ||\\vec w'||}$$\n",
    "- définissez la distance entre l'origine du repère (point de coordonnées (0,0)) et la droite. Rappel: c'est $$-\\frac{w_0}{||w'||}$$\n",
    "- Déduisez-en (pas *directement* fait en TD!) la position du point qui est le projeté de l'origine sur la droite.  Ce point sera le milieu du segement de droite que vous tracerez\n",
    "- Calculez le vecteur orthogonal au vecteur $\\vec w$, qui sera donc colinéaire à la droite. Cela peut se faire par une rotation de 90 degrés ($\\pi/2$).\n",
    "- Ensuite, les 2 extremités du segment peuvent etre obtenues comme la somme et la différence des 2 vecteurs qu'on vient de calculer.\n",
    "\n",
    "Attention au fait que la droite est caractérisée par 3 paramètres, mais que les vecteurs et points du plan sont repérés par seulement 2 coordonnées.\n",
    "\n",
    "### Alternative: revenir à la formulation \"y=ax+b\" et traiter les cas particuliers à part"
   ]
  },
  {
   "cell_type": "code",
   "execution_count": null,
   "id": "42226df9",
   "metadata": {},
   "outputs": [],
   "source": [
    "## Il peut etre utile de definir la norme d'un vecteur:\n",
    "def norme(w):\n",
    "    return ??"
   ]
  },
  {
   "cell_type": "code",
   "execution_count": null,
   "id": "c0c90e75",
   "metadata": {
    "scrolled": false
   },
   "outputs": [],
   "source": [
    "def display(X, T, wInit, iteration):\n",
    "    w  = wInit.copy()\n",
    "    w0 = ??\n",
    "    ## on normalise les composantes du vrai vecteur w \n",
    "    wprime = ??\n",
    "    print(w, w0, wprime)\n",
    "    \n",
    "    u_w = ??  # vecteur unitaire donnant la direction\n",
    "    distance_origine_droite = ?? \n",
    "    projete_de_Origine_sur_droite = ??\n",
    "    vecteur_Orthogonal_A_La_Droite = ??\n",
    "    \n",
    "    ## on définit maintenant les coordonnées du segment de droite (ce sont 2 vecteurs)\n",
    "    extremite1 = ??\n",
    "    extremite2 = ??\n",
    "    \n",
    "    ## on extrait les abcisses et les ordonnées de ces 2 vecteurs:\n",
    "    extremites_abscisses = np.array([extremite1[0], extremite2[0]])\n",
    "    extremites_ordonnees = np.array([extremite1[1], extremite2[1]])\n",
    "    \n",
    "    plt.figure(1)\n",
    "    ## on affiche les points de données:\n",
    "    Class1 = X[T==-1,1:] # points of class \"-1\"\n",
    "    Class2 = X[T== 1,1:] # points of class \"+1\"\n",
    "    plt.plot(Class1[:,0], Class1[:,1], 'r+') # points of class \"-1\"\n",
    "    plt.plot(Class2[:,0], Class2[:,1], 'bx') # points of class \"+1\"\n",
    "    \n",
    "    ## on affiche le segment de droite:\n",
    "    plt.plot(extremites_abscisses, extremites_ordonnees,  color='blue')\n",
    "\n",
    "    ## autre méthode\n",
    "    if w[2] != 0.0:\n",
    "        TOOD\n",
    "    else:\n",
    "        TODO\n",
    "    "
   ]
  },
  {
   "cell_type": "code",
   "execution_count": null,
   "id": "f6709bd9",
   "metadata": {},
   "outputs": [],
   "source": [
    "display(X,T, w, 0)"
   ]
  },
  {
   "cell_type": "markdown",
   "id": "754e80d1",
   "metadata": {},
   "source": [
    "## 3. Calculez la distance (signée) entre un point quelconque et la droite (définissez une fonction distancePoint_Droite).\n",
    "\n",
    "Remarque: la formule est contenue dans la question 3 de l'exercice \"3.2  Distance point-droite (Démonstration)\"\n"
   ]
  },
  {
   "cell_type": "code",
   "execution_count": null,
   "id": "022c202b",
   "metadata": {},
   "outputs": [],
   "source": [
    "def distancePoint_Droite(x, w):\n",
    "    return ??"
   ]
  },
  {
   "cell_type": "code",
   "execution_count": null,
   "id": "8d760b15",
   "metadata": {},
   "outputs": [],
   "source": [
    "## test: il faudrait que votre fonction puisse\n",
    "## calculer des séries de points X:\n",
    "N = 10 # nombre de points\n",
    "D = 3 # dimension de chaque point\n",
    "x = np.random.random((N, D))\n",
    "x, distancePoint_Droite(x, w)"
   ]
  },
  {
   "cell_type": "markdown",
   "id": "41a612fb",
   "metadata": {},
   "source": [
    "## 4. Affichez la distance (signée) à la droite avec un dégradé de couleurs.\n",
    "\n",
    "On vous aide pas mal. Vous pouvez aller voir la doc. de `pyplot.contourf`"
   ]
  },
  {
   "cell_type": "code",
   "execution_count": null,
   "id": "16291ffd",
   "metadata": {},
   "outputs": [],
   "source": [
    "h = 0.002 ## grid mesh size\n",
    "x_min, x_max = -2, 2\n",
    "y_min, y_max = -2, 2\n",
    "xx, yy = np.meshgrid(np.arange(x_min, x_max, h),\n",
    "                     np.arange(y_min, y_max, h))\n",
    "## xx et yy définissent une grille de valeurs de x et y qui \n",
    "## couvrent une portion du plan (un carré)\n",
    "n = (xx.ravel()).shape[0]\n",
    "Xs=np.c_[np.ones(n), xx.ravel(), yy.ravel()]\n",
    "## Xs définit les coordonnées (x,y) des points dans ce carré\n",
    "## notez qu'on a \"ajouté les 1\" aux points (X)"
   ]
  },
  {
   "cell_type": "code",
   "execution_count": null,
   "id": "6af46c3a",
   "metadata": {},
   "outputs": [],
   "source": [
    "xx.shape, xx, "
   ]
  },
  {
   "cell_type": "code",
   "execution_count": null,
   "id": "8dfba159",
   "metadata": {},
   "outputs": [],
   "source": [
    "xx.ravel().shape, xx.ravel()"
   ]
  },
  {
   "cell_type": "code",
   "execution_count": null,
   "id": "521d7557",
   "metadata": {},
   "outputs": [],
   "source": [
    "Z = ??\n",
    "Z = Z.reshape(xx.shape)\n",
    "\n",
    "plt.figure(figsize=[5,5]) ## equal x and y lengths for a squared figure\n",
    "plt.contourf(xx, yy, Z, cmap=plt.cm.jet, alpha=0.4, levels=20)\n",
    "plt.colorbar()\n",
    "display(X,T, w,0)\n"
   ]
  },
  {
   "cell_type": "code",
   "execution_count": null,
   "id": "c620a8e0",
   "metadata": {},
   "outputs": [],
   "source": []
  },
  {
   "cell_type": "code",
   "execution_count": null,
   "id": "d39ae6ae",
   "metadata": {},
   "outputs": [],
   "source": []
  },
  {
   "cell_type": "code",
   "execution_count": null,
   "id": "96f2197c",
   "metadata": {},
   "outputs": [],
   "source": []
  },
  {
   "cell_type": "code",
   "execution_count": null,
   "id": "4de2e475",
   "metadata": {},
   "outputs": [],
   "source": []
  },
  {
   "cell_type": "code",
   "execution_count": null,
   "id": "38112a9e",
   "metadata": {},
   "outputs": [],
   "source": []
  }
 ],
 "metadata": {
  "kernelspec": {
   "display_name": "Python 3",
   "language": "python",
   "name": "python3"
  },
  "language_info": {
   "codemirror_mode": {
    "name": "ipython",
    "version": 3
   },
   "file_extension": ".py",
   "mimetype": "text/x-python",
   "name": "python",
   "nbconvert_exporter": "python",
   "pygments_lexer": "ipython3",
   "version": "3.11.2"
  }
 },
 "nbformat": 4,
 "nbformat_minor": 5
}
